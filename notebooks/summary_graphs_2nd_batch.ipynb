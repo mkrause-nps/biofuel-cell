{
 "cells": [
  {
   "cell_type": "markdown",
   "id": "4b6dfd93",
   "metadata": {},
   "source": [
    "# Resistance Measurements of 2nd Batch of Sponge-Wedge Chips\n",
    "\n",
    "## Summary Graphs"
   ]
  },
  {
   "cell_type": "markdown",
   "id": "830f5a64",
   "metadata": {},
   "source": [
    "### Data\n",
    "Electrical resistances from a total of n=3 sections of chips processed with Protocol 1 were measured. \n",
    "\n",
    "Figures from this notebook are in a summary slide deck named `2024-07-07_clearance_2nd_batch_v3.pptx`."
   ]
  },
  {
   "cell_type": "code",
   "execution_count": 6,
   "id": "5e98647b",
   "metadata": {},
   "outputs": [],
   "source": [
    "data_csv_filename = '2nd_batch_resistances_py.xlsx'"
   ]
  },
  {
   "cell_type": "code",
   "execution_count": 7,
   "id": "d9dd8905",
   "metadata": {},
   "outputs": [],
   "source": [
    "def _get_src_dir() -> str:\n",
    "    return os.path.split(os.path.dirname(os.path.abspath('__file__')))[0]"
   ]
  },
  {
   "cell_type": "code",
   "execution_count": 8,
   "id": "ce1ab132",
   "metadata": {},
   "outputs": [],
   "source": [
    "import os\n",
    "from pathlib import Path\n",
    "os.chdir(_get_src_dir())\n",
    "from src.utility import _Utility\n",
    "import pandas as pd\n",
    "import numpy as np\n",
    "import matplotlib.pyplot as plt\n",
    "import scipy.stats as stats"
   ]
  },
  {
   "cell_type": "code",
   "execution_count": 9,
   "id": "b68a5b7e",
   "metadata": {},
   "outputs": [],
   "source": [
    "data_path = os.path.join(_Utility.get_user_data_dir_path(), data_csv_filename)"
   ]
  },
  {
   "cell_type": "code",
   "execution_count": 22,
   "id": "9297d7c5",
   "metadata": {},
   "outputs": [
    {
     "name": "stdout",
     "output_type": "stream",
     "text": [
      "/home/mkrause/data/biofuel-cell/2nd_batch_resistances_py.xlsx\n"
     ]
    }
   ],
   "source": [
    "print(data_path)"
   ]
  },
  {
   "cell_type": "markdown",
   "id": "3029e9b0",
   "metadata": {},
   "source": [
    "#### Read all sheets of the Excel file"
   ]
  },
  {
   "cell_type": "code",
   "execution_count": 23,
   "id": "9d4ed929",
   "metadata": {},
   "outputs": [
    {
     "name": "stdout",
     "output_type": "stream",
     "text": [
      "Error: [Errno 2] No such file or directory: '/home/mkrause/data/biofuel-cell/2nd_batch_resistances_py.xlsx'\n",
      "path /home/mkrause/data/biofuel-cell/2nd_batch_resistances_py.xlsx doesn't exist\n",
      "directory 'data' doesn't exist\n",
      "file 2nd_batch_resistances_py.xlsx doesn't exist\n"
     ]
    }
   ],
   "source": [
    "try:\n",
    "    xlsx = pd.read_excel(data_path, sheet_name=None)\n",
    "    print(xlsx.keys())\n",
    "except FileNotFoundError as e:\n",
    "    print(f'Error: {e}')\n",
    "    path = Path(data_path)\n",
    "    if not _Utility.path_exists(path):\n",
    "        print(f\"path {path} doesn't exist\")\n",
    "    if not _Utility.dir_exists(path):\n",
    "        print(f\"directory 'data' doesn't exist\")\n",
    "    if not _Utility.file_exists(path):\n",
    "        print(f\"file {data_csv_filename} doesn't exist\")"
   ]
  },
  {
   "cell_type": "markdown",
   "id": "e9481177",
   "metadata": {},
   "source": [
    "Add a 'Sheet' column to each dataframe. This is necessary because the sheet names are not a column in the Excel file."
   ]
  },
  {
   "cell_type": "code",
   "execution_count": null,
   "id": "67f1ce97",
   "metadata": {},
   "outputs": [],
   "source": [
    "for sheet_name in xlsx.keys():\n",
    "    xlsx[sheet_name]['Sheet'] = sheet_name"
   ]
  },
  {
   "cell_type": "markdown",
   "id": "d218152d",
   "metadata": {},
   "source": [
    "Concatenate sheets of positive controls into one DataFrame"
   ]
  },
  {
   "cell_type": "code",
   "execution_count": null,
   "id": "77a5f0f5",
   "metadata": {},
   "outputs": [],
   "source": [
    "df = pd.concat(xlsx[frame] for frame in xlsx.keys() if 'positive' in frame)"
   ]
  },
  {
   "cell_type": "code",
   "execution_count": null,
   "id": "5010c44f",
   "metadata": {},
   "outputs": [],
   "source": [
    "df"
   ]
  },
  {
   "cell_type": "markdown",
   "id": "97db7513",
   "metadata": {},
   "source": [
    "## Plot all data"
   ]
  },
  {
   "cell_type": "markdown",
   "id": "97084402",
   "metadata": {},
   "source": [
    "### Plot each average of a 100 samples with its corresponding standard deviation."
   ]
  },
  {
   "cell_type": "code",
   "execution_count": null,
   "id": "c21a8308",
   "metadata": {},
   "outputs": [],
   "source": [
    "x_label = 'Chip Section Index'\n",
    "y_label1 = 'Average resistance of 100 observations ($\\Omega$)'\n",
    "y_label2 = 'Resistance ($\\Omega$)'"
   ]
  },
  {
   "cell_type": "code",
   "execution_count": null,
   "id": "c306bbf9",
   "metadata": {},
   "outputs": [],
   "source": [
    "def avg_with_stdev_for_each_channel():\n",
    "    # Get the data and errors from the DataFrame.\n",
    "    averages = df['R_avg [Ohm]']\n",
    "    std_devs = df['R_stdev [Ohm]']\n",
    "\n",
    "    # Create an array with the positions of each bar on the x-axis.\n",
    "    x_pos = np.arange(len(averages))\n",
    "\n",
    "    # 'chip_id' is the column with group ids.\n",
    "    chip_ids: np.ndarray = df['chip_id'].unique()\n",
    "\n",
    "    # Create a color dictionary for unique groups.\n",
    "    colors: dict = {chip_id: plt.cm.rainbow(np.linspace(0, 1, len(chip_ids))[i]) for i, chip_id in enumerate(chip_ids)}\n",
    "\n",
    "    # Create a bar plot with error bars by plotting each individual bar, one at a time.\n",
    "    for i in range(len(df)):\n",
    "        plt.bar(x_pos[i], averages.iloc[i], yerr=std_devs.iloc[i], align='center', alpha=0.7, ecolor='black', capsize=10,\n",
    "               color=colors[df['chip_id'].iloc[i]])\n",
    "\n",
    "    # Set the y-axis to be logarithmic.\n",
    "    plt.yscale('log')\n",
    "\n",
    "    # Customize the plot.\n",
    "    plt.title('Average Values with Standard Deviation (total is n = 3 chips)')\n",
    "    plt.ylabel(y_label1)\n",
    "    plt.xlabel(x_label)\n",
    "    plt.xticks(x_pos, df['chip_id'])\n",
    "    plt.tight_layout()\n",
    "\n",
    "    # Save figure to disk.\n",
    "    filename = f'{_Utility.get_filename_only(filename=data_csv_filename)}.png'\n",
    "    fig_filename = os.path.join(_Utility.get_user_data_dir_path(), filename)\n",
    "    plt.savefig(fig_filename)\n",
    "\n",
    "    # Display the plot.\n",
    "    plt.show()"
   ]
  },
  {
   "cell_type": "code",
   "execution_count": null,
   "id": "f92cb569",
   "metadata": {},
   "outputs": [],
   "source": [
    "avg_with_stdev_for_each_channel()"
   ]
  },
  {
   "cell_type": "markdown",
   "id": "8cdd4a09",
   "metadata": {},
   "source": [
    "### Create average of each chip\n",
    "Create averages of the mean values for each microchannel measurement. That results in a mean of means. Then compute the standard error of that mean."
   ]
  },
  {
   "cell_type": "code",
   "execution_count": null,
   "id": "46401f9f",
   "metadata": {},
   "outputs": [],
   "source": [
    "def avg_section():\n",
    "    means = df.groupby('chip_id')['R_avg [Ohm]'].mean()\n",
    "    stderr = df.groupby('chip_id')['R_avg [Ohm]'].apply(stats.sem)\n",
    "    groups = means.index\n",
    "\n",
    "    # Create a color dictionary for unique groups.\n",
    "    colors: dict = {group: plt.cm.rainbow(np.linspace(0, 1, len(groups))[i]) for i, group in enumerate(groups)}\n",
    "\n",
    "    # Create a bar plot.\n",
    "    for i in range(len(groups)):\n",
    "        plt.bar(i, means.iloc[i], yerr=stderr.iloc[i], color=colors[groups[i]], capsize=5)\n",
    "\n",
    "    # Set x-ticks to the group names.\n",
    "    plt.xticks(np.arange(len(groups)), groups)\n",
    "\n",
    "    # Set the y-axis to be logarithmic.\n",
    "    plt.yscale('log')\n",
    "\n",
    "    # Customize the plot.\n",
    "    plt.title('Per-chip Average w/ standard err. (total is n = 3 chips)')\n",
    "    plt.ylabel(y_label2)\n",
    "    plt.xlabel(x_label)\n",
    "    plt.tight_layout()\n",
    "\n",
    "    filename = f'{_Utility.get_filename_only(filename=data_csv_filename)}_per_chip.png'\n",
    "    fig_filename = os.path.join(_Utility.get_user_data_dir_path(), filename)\n",
    "    plt.savefig(fig_filename)\n",
    "\n",
    "    # Display the plot.\n",
    "    plt.show()"
   ]
  },
  {
   "cell_type": "code",
   "execution_count": null,
   "id": "6484278a",
   "metadata": {},
   "outputs": [],
   "source": [
    "avg_section()"
   ]
  },
  {
   "cell_type": "markdown",
   "id": "9911208a",
   "metadata": {},
   "source": [
    "### Detecting (and removing) outliers"
   ]
  },
  {
   "cell_type": "markdown",
   "id": "ff968cfd",
   "metadata": {},
   "source": [
    "Check if any values are outliers, possibly because the channels the data originated from, were not conducting (something I didn't pay enough attention to when I did the measurement). See docstring of method on how outliers are defined."
   ]
  },
  {
   "cell_type": "code",
   "execution_count": null,
   "id": "830825e9",
   "metadata": {},
   "outputs": [],
   "source": [
    "df_without_outliers = df.groupby('chip_id')['R_avg [Ohm]'].apply(_Utility.remove_outliers, dataset_name='chip-section').reset_index()"
   ]
  },
  {
   "cell_type": "code",
   "execution_count": null,
   "id": "114ef5d0",
   "metadata": {},
   "outputs": [],
   "source": [
    "def avg_section_no_outliers():\n",
    "    means = df_without_outliers.groupby('chip_id')['R_avg [Ohm]'].mean()\n",
    "    stderr = df_without_outliers.groupby('chip_id')['R_avg [Ohm]'].apply(stats.sem)\n",
    "    groups = means.index\n",
    "    \n",
    "    # Create a color dictionary for unique groups.\n",
    "    colors: dict = {group: plt.cm.rainbow(np.linspace(0, 1, len(groups))[i]) for i, group in enumerate(groups)}\n",
    "\n",
    "    # Create a bar plot.\n",
    "    for i in range(len(groups)):\n",
    "        plt.bar(i, means.iloc[i], yerr=stderr.iloc[i], color=colors[groups[i]], capsize=5)\n",
    "\n",
    "    # Set x-ticks to the group names.\n",
    "    plt.xticks(np.arange(len(groups)), groups)\n",
    "\n",
    "    # Set the y-axis to be logarithmic.\n",
    "    plt.yscale('log')\n",
    "\n",
    "\n",
    "    # Customize the plot.\n",
    "    plt.title('Per-chip Average without outliers (total is n = 3 chips)')\n",
    "    plt.ylabel(y_label2)\n",
    "    plt.xlabel(x_label)\n",
    "    plt.tight_layout()\n",
    "\n",
    "    filename = f'{_Utility.get_filename_only(filename=data_csv_filename)}_per_chip_no_outliers.png'\n",
    "    fig_filename = os.path.join(_Utility.get_user_data_dir_path(), filename)\n",
    "    plt.savefig(fig_filename)\n",
    "\n",
    "    # Display the plot.\n",
    "    plt.show()"
   ]
  },
  {
   "cell_type": "code",
   "execution_count": null,
   "id": "daebeb22",
   "metadata": {},
   "outputs": [],
   "source": [
    "avg_section_no_outliers()"
   ]
  },
  {
   "cell_type": "markdown",
   "id": "13c72269",
   "metadata": {},
   "source": [
    "#### Get a few negative controls"
   ]
  },
  {
   "cell_type": "code",
   "execution_count": null,
   "id": "93d9e02c",
   "metadata": {},
   "outputs": [],
   "source": [
    "df = pd.concat(xlsx[frame] for frame in xlsx.keys() if 'negative' in frame)\n",
    "df.dropna(inplace=True)"
   ]
  },
  {
   "cell_type": "code",
   "execution_count": null,
   "id": "67458250",
   "metadata": {},
   "outputs": [],
   "source": [
    "df"
   ]
  },
  {
   "cell_type": "code",
   "execution_count": null,
   "id": "79e34997",
   "metadata": {},
   "outputs": [],
   "source": [
    "print(xlsx.keys())"
   ]
  },
  {
   "cell_type": "code",
   "execution_count": null,
   "id": "4c56d4b6",
   "metadata": {},
   "outputs": [],
   "source": [
    "sheet_val = [protocol for protocol in xlsx.keys() if '01' in protocol and  'negative' in protocol][0]\n",
    "new_col_name = 'chip_id'\n",
    "df[new_col_name] = 0\n",
    "df"
   ]
  },
  {
   "cell_type": "code",
   "execution_count": null,
   "id": "b3f2ccd1",
   "metadata": {},
   "outputs": [],
   "source": [
    "print(sheet_val)\n",
    "df[new_col_name] = df.apply(_Utility.put_value_in_row, condition_column_name='Sheet', condition=sheet_val, value=1, alt_value=3, axis=1)"
   ]
  },
  {
   "cell_type": "code",
   "execution_count": null,
   "id": "d28afcd7",
   "metadata": {},
   "outputs": [],
   "source": [
    "df"
   ]
  },
  {
   "cell_type": "code",
   "execution_count": null,
   "id": "b432f4bc",
   "metadata": {},
   "outputs": [],
   "source": [
    "avg_with_stdev_for_each_channel()"
   ]
  },
  {
   "cell_type": "code",
   "execution_count": null,
   "id": "78901fcb",
   "metadata": {},
   "outputs": [],
   "source": [
    "avg_section()"
   ]
  },
  {
   "cell_type": "code",
   "execution_count": null,
   "id": "e106ba7d",
   "metadata": {},
   "outputs": [],
   "source": [
    "df_without_outliers = df.groupby('chip_id')['R_avg [Ohm]'].apply(_Utility.remove_outliers, dataset_name='chip-section').reset_index()\n",
    "avg_section_no_outliers()"
   ]
  },
  {
   "cell_type": "code",
   "execution_count": null,
   "id": "495bba81",
   "metadata": {},
   "outputs": [],
   "source": []
  }
 ],
 "metadata": {
  "kernelspec": {
   "display_name": ".venv",
   "language": "python",
   "name": ".venv"
  },
  "language_info": {
   "codemirror_mode": {
    "name": "ipython",
    "version": 3
   },
   "file_extension": ".py",
   "mimetype": "text/x-python",
   "name": "python",
   "nbconvert_exporter": "python",
   "pygments_lexer": "ipython3",
   "version": "3.12.3"
  }
 },
 "nbformat": 4,
 "nbformat_minor": 5
}
