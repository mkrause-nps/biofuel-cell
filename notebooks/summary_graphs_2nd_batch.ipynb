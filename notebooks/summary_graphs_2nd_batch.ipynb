{
 "cells": [
  {
   "cell_type": "markdown",
   "id": "4b6dfd93",
   "metadata": {},
   "source": [
    "# Resistance Measurements of 2nd Batch of Sponge-Wedge Chips\n",
    "\n",
    "## Summary Graphs"
   ]
  },
  {
   "cell_type": "markdown",
   "id": "830f5a64",
   "metadata": {},
   "source": [
    "### Data\n",
    "Electrical resistances from a total of n=3 chips were measured. \n",
    "\n",
    "Data are organized in dictionaries of repeated measurements of averages and standard deviations of 100 observations for each channel (using the Keithley Multimeter device). Each value is the average and the standard deviation of the 100 observations. Keys of the dictionary are protocols, and value is the data (which is a dictionary, too). The data dictionary is "
   ]
  },
  {
   "cell_type": "code",
   "execution_count": 1,
   "id": "a77a5792",
   "metadata": {},
   "outputs": [],
   "source": [
    "data_csv_filename = '2nd_batch_resistances_py.xlsx'"
   ]
  },
  {
   "cell_type": "code",
   "execution_count": 2,
   "id": "f82213b0",
   "metadata": {},
   "outputs": [],
   "source": [
    "def _get_src_dir() -> str:\n",
    "    return os.path.split(os.path.dirname(os.path.abspath('__file__')))[0]"
   ]
  },
  {
   "cell_type": "code",
   "execution_count": 3,
   "id": "bde19bdf",
   "metadata": {},
   "outputs": [],
   "source": [
    "import os\n",
    "os.chdir(_get_src_dir())\n",
    "from src.utility import _Utility\n",
    "import pandas as pd\n",
    "import numpy as np\n",
    "import matplotlib.pyplot as plt"
   ]
  },
  {
   "cell_type": "code",
   "execution_count": 4,
   "id": "2dac1c13",
   "metadata": {},
   "outputs": [],
   "source": [
    "data_path = os.path.join(_Utility.get_user_data_dir_path(), data_csv_filename)"
   ]
  },
  {
   "cell_type": "code",
   "execution_count": 5,
   "id": "9297d7c5",
   "metadata": {},
   "outputs": [
    {
     "name": "stdout",
     "output_type": "stream",
     "text": [
      "/home/mkrause/data/biofuel-cell/2nd_batch_resistances_py.xlsx\n"
     ]
    }
   ],
   "source": [
    "print(data_path)"
   ]
  },
  {
   "cell_type": "code",
   "execution_count": 6,
   "id": "4bb5485f",
   "metadata": {},
   "outputs": [],
   "source": [
    "sheet_names = [\n",
    "    'protocol01_positive_control', \n",
    "    'protocol02_positive_control', \n",
    "    'protocol03_positive_control']\n",
    "# for sheet_name in sheet_names:\n",
    "df = pd.read_excel(data_path, sheet_name=sheet_names[0])"
   ]
  },
  {
   "cell_type": "code",
   "execution_count": 7,
   "id": "71a1e05d",
   "metadata": {},
   "outputs": [
    {
     "data": {
      "text/html": [
       "<div>\n",
       "<style scoped>\n",
       "    .dataframe tbody tr th:only-of-type {\n",
       "        vertical-align: middle;\n",
       "    }\n",
       "\n",
       "    .dataframe tbody tr th {\n",
       "        vertical-align: top;\n",
       "    }\n",
       "\n",
       "    .dataframe thead th {\n",
       "        text-align: right;\n",
       "    }\n",
       "</style>\n",
       "<table border=\"1\" class=\"dataframe\">\n",
       "  <thead>\n",
       "    <tr style=\"text-align: right;\">\n",
       "      <th></th>\n",
       "      <th>R_avg [Ohm]</th>\n",
       "      <th>R_stdev [Ohm]</th>\n",
       "      <th>fraction of R_stdev</th>\n",
       "      <th>chip_id</th>\n",
       "    </tr>\n",
       "  </thead>\n",
       "  <tbody>\n",
       "    <tr>\n",
       "      <th>0</th>\n",
       "      <td>3190</td>\n",
       "      <td>0.128</td>\n",
       "      <td>0.000040</td>\n",
       "      <td>1</td>\n",
       "    </tr>\n",
       "    <tr>\n",
       "      <th>1</th>\n",
       "      <td>42900000</td>\n",
       "      <td>73100.000</td>\n",
       "      <td>0.001704</td>\n",
       "      <td>1</td>\n",
       "    </tr>\n",
       "    <tr>\n",
       "      <th>2</th>\n",
       "      <td>3920</td>\n",
       "      <td>3.000</td>\n",
       "      <td>0.000765</td>\n",
       "      <td>1</td>\n",
       "    </tr>\n",
       "    <tr>\n",
       "      <th>3</th>\n",
       "      <td>40370000</td>\n",
       "      <td>172000.000</td>\n",
       "      <td>0.004261</td>\n",
       "      <td>1</td>\n",
       "    </tr>\n",
       "    <tr>\n",
       "      <th>4</th>\n",
       "      <td>95400000</td>\n",
       "      <td>700000.000</td>\n",
       "      <td>0.007338</td>\n",
       "      <td>1</td>\n",
       "    </tr>\n",
       "  </tbody>\n",
       "</table>\n",
       "</div>"
      ],
      "text/plain": [
       "   R_avg [Ohm]  R_stdev [Ohm]  fraction of R_stdev  chip_id\n",
       "0         3190          0.128             0.000040        1\n",
       "1     42900000      73100.000             0.001704        1\n",
       "2         3920          3.000             0.000765        1\n",
       "3     40370000     172000.000             0.004261        1\n",
       "4     95400000     700000.000             0.007338        1"
      ]
     },
     "execution_count": 7,
     "metadata": {},
     "output_type": "execute_result"
    }
   ],
   "source": [
    "df.head()"
   ]
  },
  {
   "cell_type": "markdown",
   "id": "af5a6f03",
   "metadata": {},
   "source": [
    "Read all sheets of the Excel file"
   ]
  },
  {
   "cell_type": "code",
   "execution_count": 8,
   "id": "88e2e47f",
   "metadata": {},
   "outputs": [
    {
     "name": "stdout",
     "output_type": "stream",
     "text": [
      "dict_keys(['protocol01_positive_control', 'protocol01_negative_control', 'protocol02_positive_control', 'protocol02_negative_control', 'protocol03_positive_control', 'protocol03_negative_control'])\n"
     ]
    }
   ],
   "source": [
    "xlsx = pd.read_excel(data_path, sheet_name=None)\n",
    "print(xlsx.keys())"
   ]
  },
  {
   "cell_type": "markdown",
   "id": "fce308ed",
   "metadata": {},
   "source": [
    "Add a 'Sheet' column to each dataframe"
   ]
  },
  {
   "cell_type": "code",
   "execution_count": 9,
   "id": "dd37f7d3",
   "metadata": {},
   "outputs": [],
   "source": [
    "for sheet_name in xlsx.keys():\n",
    "    xlsx[sheet_name]['Sheet'] = sheet_name"
   ]
  },
  {
   "cell_type": "markdown",
   "id": "4023f898",
   "metadata": {},
   "source": [
    "Concatenate sheets of positive controls into one DataFrame"
   ]
  },
  {
   "cell_type": "code",
   "execution_count": 10,
   "id": "aa651b68",
   "metadata": {},
   "outputs": [],
   "source": [
    "df = pd.concat(xlsx[frame] for frame in xlsx.keys() if 'positive' in frame)"
   ]
  },
  {
   "cell_type": "code",
   "execution_count": 11,
   "id": "8d802397",
   "metadata": {},
   "outputs": [
    {
     "data": {
      "text/html": [
       "<div>\n",
       "<style scoped>\n",
       "    .dataframe tbody tr th:only-of-type {\n",
       "        vertical-align: middle;\n",
       "    }\n",
       "\n",
       "    .dataframe tbody tr th {\n",
       "        vertical-align: top;\n",
       "    }\n",
       "\n",
       "    .dataframe thead th {\n",
       "        text-align: right;\n",
       "    }\n",
       "</style>\n",
       "<table border=\"1\" class=\"dataframe\">\n",
       "  <thead>\n",
       "    <tr style=\"text-align: right;\">\n",
       "      <th></th>\n",
       "      <th>R_avg [Ohm]</th>\n",
       "      <th>R_stdev [Ohm]</th>\n",
       "      <th>fraction of R_stdev</th>\n",
       "      <th>chip_id</th>\n",
       "      <th>Sheet</th>\n",
       "    </tr>\n",
       "  </thead>\n",
       "  <tbody>\n",
       "    <tr>\n",
       "      <th>0</th>\n",
       "      <td>3190</td>\n",
       "      <td>0.128</td>\n",
       "      <td>0.000040</td>\n",
       "      <td>1</td>\n",
       "      <td>protocol01_positive_control</td>\n",
       "    </tr>\n",
       "    <tr>\n",
       "      <th>1</th>\n",
       "      <td>42900000</td>\n",
       "      <td>73100.000</td>\n",
       "      <td>0.001704</td>\n",
       "      <td>1</td>\n",
       "      <td>protocol01_positive_control</td>\n",
       "    </tr>\n",
       "    <tr>\n",
       "      <th>2</th>\n",
       "      <td>3920</td>\n",
       "      <td>3.000</td>\n",
       "      <td>0.000765</td>\n",
       "      <td>1</td>\n",
       "      <td>protocol01_positive_control</td>\n",
       "    </tr>\n",
       "    <tr>\n",
       "      <th>3</th>\n",
       "      <td>40370000</td>\n",
       "      <td>172000.000</td>\n",
       "      <td>0.004261</td>\n",
       "      <td>1</td>\n",
       "      <td>protocol01_positive_control</td>\n",
       "    </tr>\n",
       "    <tr>\n",
       "      <th>4</th>\n",
       "      <td>95400000</td>\n",
       "      <td>700000.000</td>\n",
       "      <td>0.007338</td>\n",
       "      <td>1</td>\n",
       "      <td>protocol01_positive_control</td>\n",
       "    </tr>\n",
       "  </tbody>\n",
       "</table>\n",
       "</div>"
      ],
      "text/plain": [
       "   R_avg [Ohm]  R_stdev [Ohm]  fraction of R_stdev  chip_id  \\\n",
       "0         3190          0.128             0.000040        1   \n",
       "1     42900000      73100.000             0.001704        1   \n",
       "2         3920          3.000             0.000765        1   \n",
       "3     40370000     172000.000             0.004261        1   \n",
       "4     95400000     700000.000             0.007338        1   \n",
       "\n",
       "                         Sheet  \n",
       "0  protocol01_positive_control  \n",
       "1  protocol01_positive_control  \n",
       "2  protocol01_positive_control  \n",
       "3  protocol01_positive_control  \n",
       "4  protocol01_positive_control  "
      ]
     },
     "execution_count": 11,
     "metadata": {},
     "output_type": "execute_result"
    }
   ],
   "source": [
    "df.head()"
   ]
  },
  {
   "cell_type": "code",
   "execution_count": 12,
   "id": "cde9e4b8",
   "metadata": {},
   "outputs": [
    {
     "name": "stdout",
     "output_type": "stream",
     "text": [
      "   R_avg [Ohm]  R_stdev [Ohm]  fraction of R_stdev  chip_id  \\\n",
      "0         3190          0.128             0.000040        1   \n",
      "1     42900000      73100.000             0.001704        1   \n",
      "2         3920          3.000             0.000765        1   \n",
      "3     40370000     172000.000             0.004261        1   \n",
      "4     95400000     700000.000             0.007338        1   \n",
      "5         3530         10.500             0.002975        1   \n",
      "6         4040         24.700             0.006114        1   \n",
      "7         3000         11.000             0.003667        1   \n",
      "8         4150         56.000             0.013494        1   \n",
      "0         5400         51.000             0.009444        2   \n",
      "1        30000         71.000             0.002367        2   \n",
      "2        39000        156.000             0.004000        2   \n",
      "3      1240000      32000.000             0.025806        2   \n",
      "4       212000        417.000             0.001967        2   \n",
      "5        38000         53.000             0.001395        2   \n",
      "6        99000       2600.000             0.026263        2   \n",
      "7        19900        352.000             0.017688        2   \n",
      "8        16900         80.800             0.004781        2   \n",
      "9        17600         19.900             0.001131        2   \n",
      "0        15000          9.500             0.000633        3   \n",
      "1        29000        201.000             0.006931        3   \n",
      "2        18000        177.000             0.009833        3   \n",
      "3         5600         25.900             0.004625        3   \n",
      "4         6600         28.000             0.004242        3   \n",
      "5        51000        333.000             0.006529        3   \n",
      "6         5600         21.000             0.003750        3   \n",
      "7         5600         21.300             0.003804        3   \n",
      "8        15800         53.000             0.003354        3   \n",
      "9         8000         12.000             0.001500        3   \n",
      "\n",
      "                         Sheet  \n",
      "0  protocol01_positive_control  \n",
      "1  protocol01_positive_control  \n",
      "2  protocol01_positive_control  \n",
      "3  protocol01_positive_control  \n",
      "4  protocol01_positive_control  \n",
      "5  protocol01_positive_control  \n",
      "6  protocol01_positive_control  \n",
      "7  protocol01_positive_control  \n",
      "8  protocol01_positive_control  \n",
      "0  protocol02_positive_control  \n",
      "1  protocol02_positive_control  \n",
      "2  protocol02_positive_control  \n",
      "3  protocol02_positive_control  \n",
      "4  protocol02_positive_control  \n",
      "5  protocol02_positive_control  \n",
      "6  protocol02_positive_control  \n",
      "7  protocol02_positive_control  \n",
      "8  protocol02_positive_control  \n",
      "9  protocol02_positive_control  \n",
      "0  protocol03_positive_control  \n",
      "1  protocol03_positive_control  \n",
      "2  protocol03_positive_control  \n",
      "3  protocol03_positive_control  \n",
      "4  protocol03_positive_control  \n",
      "5  protocol03_positive_control  \n",
      "6  protocol03_positive_control  \n",
      "7  protocol03_positive_control  \n",
      "8  protocol03_positive_control  \n",
      "9  protocol03_positive_control  \n"
     ]
    }
   ],
   "source": [
    "print(df)"
   ]
  },
  {
   "cell_type": "markdown",
   "id": "f33aae39",
   "metadata": {},
   "source": [
    "## Plot all data"
   ]
  },
  {
   "cell_type": "code",
   "execution_count": 13,
   "id": "3a1d50ed",
   "metadata": {},
   "outputs": [
    {
     "data": {
      "image/png": "[encoded data removed]",
      "text/plain": [
       "<Figure size 640x480 with 1 Axes>"
      ]
     },
     "metadata": {},
     "output_type": "display_data"
    }
   ],
   "source": [
    "# Assuming df is your DataFrame and 'A' and 'B' are your columns\n",
    "mean = df['R_avg [Ohm]'].mean()\n",
    "std_dev = df['R_avg [Ohm]'].std()\n",
    "\n",
    "# Create a single bar plot with error bars\n",
    "plt.bar('R_avg [Ohm]', mean, yerr=std_dev)\n",
    "\n",
    "plt.title('Bar plot with standard deviation')\n",
    "#plt.xlabel('Column A')\n",
    "plt.ylabel('Electrical Resistance ($\\Omega$)')\n",
    "\n",
    "plt.show()"
   ]
  },
  {
   "cell_type": "markdown",
   "id": "bdeb0885",
   "metadata": {},
   "source": [
    "Plot each average of a 100 samples with its corresponding standard deviation."
   ]
  },
  {
   "cell_type": "code",
   "execution_count": 19,
   "id": "8e020074",
   "metadata": {},
   "outputs": [
    {
     "data": {
      "image/png": "[encoded data removed]",
      "text/plain": [
       "<Figure size 640x480 with 1 Axes>"
      ]
     },
     "metadata": {},
     "output_type": "display_data"
    }
   ],
   "source": [
    "# Assuming df is your DataFrame and 'average' and 'std_dev' are your columns\n",
    "averages = df['R_avg [Ohm]']\n",
    "std_devs = df['R_stdev [Ohm]']\n",
    "\n",
    "# Create an array with the positions of each bar on the x-axis\n",
    "x_pos = np.arange(len(averages))\n",
    "\n",
    "# Create a bar plot with error bars\n",
    "plt.bar(x_pos, averages, yerr=std_devs, align='center', alpha=0.7, ecolor='black', capsize=10)\n",
    "\n",
    "# Set the y-axis to be logarithmic\n",
    "plt.yscale('log')\n",
    "\n",
    "\n",
    "# Customize the plot\n",
    "plt.ylabel('Average resistance of 100 observations ($\\Omega$)')\n",
    "plt.xlabel('Chip Index (total is n = 3 chips)')\n",
    "plt.title('Average Values with Standard Deviation')\n",
    "plt.xticks(x_pos, df['chip_id'])\n",
    "plt.tight_layout()\n",
    "\n",
    "fig_filename = os.path.join(_Utility.get_user_data_dir_path(), 'resistances_2nd_batch.png')\n",
    "plt.savefig(fig_filename)\n",
    "\n",
    "# Display the plot\n",
    "plt.show()\n"
   ]
  },
  {
   "cell_type": "code",
   "execution_count": null,
   "id": "7b75fd1e",
   "metadata": {},
   "outputs": [],
   "source": []
  }
 ],
 "metadata": {
  "kernelspec": {
   "display_name": ".venv",
   "language": "python",
   "name": ".venv"
  },
  "language_info": {
   "codemirror_mode": {
    "name": "ipython",
    "version": 3
   },
   "file_extension": ".py",
   "mimetype": "text/x-python",
   "name": "python",
   "nbconvert_exporter": "python",
   "pygments_lexer": "ipython3",
   "version": "3.10.12"
  }
 },
 "nbformat": 4,
 "nbformat_minor": 5
}
