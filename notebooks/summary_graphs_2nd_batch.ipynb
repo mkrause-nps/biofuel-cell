{
 "cells": [
  {
   "cell_type": "markdown",
   "id": "4b6dfd93",
   "metadata": {},
   "source": [
    "# Resistance Measurements of 2nd Batch of Sponge-Wedge Chips\n",
    "\n",
    "## Summary Graphs"
   ]
  },
  {
   "cell_type": "markdown",
   "id": "830f5a64",
   "metadata": {},
   "source": [
    "### Data\n",
    "Electrical resistances from a total of n=3 chips were measured. \n",
    "\n",
    "Data are organized in dictionaries of repeated measurements of averages and standard deviations of 100 observations for each channel (using the Keithley Multimeter device). Each value is the average and the standard deviation of the 100 observations. Keys of the dictionary are protocols, and value is the data (which is a dictionary, too). The data dictionary is "
   ]
  },
  {
   "cell_type": "code",
   "execution_count": 4,
   "id": "9297d7c5",
   "metadata": {},
   "outputs": [
    {
     "ename": "ModuleNotFoundError",
     "evalue": "No module named 'pandas'",
     "output_type": "error",
     "traceback": [
      "\u001b[0;31m---------------------------------------------------------------------------\u001b[0m",
      "\u001b[0;31mModuleNotFoundError\u001b[0m                       Traceback (most recent call last)",
      "Cell \u001b[0;32mIn[4], line 2\u001b[0m\n\u001b[1;32m      1\u001b[0m \u001b[38;5;28;01mimport\u001b[39;00m \u001b[38;5;21;01mos\u001b[39;00m\n\u001b[0;32m----> 2\u001b[0m \u001b[38;5;28;01mimport\u001b[39;00m \u001b[38;5;21;01mpandas\u001b[39;00m \u001b[38;5;28;01mas\u001b[39;00m \u001b[38;5;21;01mpd\u001b[39;00m\n",
      "\u001b[0;31mModuleNotFoundError\u001b[0m: No module named 'pandas'"
     ]
    }
   ],
   "source": [
    "import os\n",
    "import pandas as pd"
   ]
  },
  {
   "cell_type": "code",
   "execution_count": 2,
   "id": "4bb5485f",
   "metadata": {},
   "outputs": [
    {
     "data": {
      "text/plain": [
       "'/home/mkrause/dev/biofuel-cell/notebooks'"
      ]
     },
     "execution_count": 2,
     "metadata": {},
     "output_type": "execute_result"
    }
   ],
   "source": [
    "os.getcwd()"
   ]
  },
  {
   "cell_type": "code",
   "execution_count": null,
   "id": "71a1e05d",
   "metadata": {},
   "outputs": [],
   "source": []
  }
 ],
 "metadata": {
  "kernelspec": {
   "display_name": ".venv",
   "language": "python",
   "name": ".venv"
  },
  "language_info": {
   "codemirror_mode": {
    "name": "ipython",
    "version": 3
   },
   "file_extension": ".py",
   "mimetype": "text/x-python",
   "name": "python",
   "nbconvert_exporter": "python",
   "pygments_lexer": "ipython3",
   "version": "3.10.12"
  }
 },
 "nbformat": 4,
 "nbformat_minor": 5
}
