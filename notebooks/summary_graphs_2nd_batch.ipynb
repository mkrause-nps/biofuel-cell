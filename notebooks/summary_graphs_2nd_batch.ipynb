{
 "cells": [
  {
   "cell_type": "markdown",
   "id": "4b6dfd93",
   "metadata": {},
   "source": [
    "# Resistance Measurements of 2nd Batch of Sponge-Wedge Chips\n",
    "\n",
    "## Summary Graphs"
   ]
  },
  {
   "cell_type": "markdown",
   "id": "830f5a64",
   "metadata": {},
   "source": [
    "### Data\n",
    "Electrical resistances from a total of n=3 chips were measured. \n",
    "\n",
    "Data are organized in dictionaries of repeated measurements of averages and standard deviations of 100 observations for each channel (using the Keithley Multimeter device). Each value is the average and the standard deviation of the 100 observations. Keys of the dictionary are protocols, and value is the data (which is a dictionary, too). The data dictionary is "
   ]
  },
  {
   "cell_type": "code",
   "execution_count": 1,
   "id": "5e98647b",
   "metadata": {},
   "outputs": [],
   "source": [
    "data_csv_filename = '2nd_batch_resistances_py.xlsx'"
   ]
  },
  {
   "cell_type": "code",
   "execution_count": 2,
   "id": "d9dd8905",
   "metadata": {},
   "outputs": [],
   "source": [
    "def _get_src_dir() -> str:\n",
    "    return os.path.split(os.path.dirname(os.path.abspath('__file__')))[0]"
   ]
  },
  {
   "cell_type": "code",
   "execution_count": 3,
   "id": "ce1ab132",
   "metadata": {},
   "outputs": [],
   "source": [
    "import os\n",
    "os.chdir(_get_src_dir())\n",
    "from src.utility import _Utility\n",
    "import pandas as pd\n",
    "import numpy as np\n",
    "import matplotlib.pyplot as plt\n",
    "import scipy.stats as stats"
   ]
  },
  {
   "cell_type": "code",
   "execution_count": 4,
   "id": "b68a5b7e",
   "metadata": {},
   "outputs": [],
   "source": [
    "data_path = os.path.join(_Utility.get_user_data_dir_path(), data_csv_filename)"
   ]
  },
  {
   "cell_type": "code",
   "execution_count": 5,
   "id": "9297d7c5",
   "metadata": {},
   "outputs": [
    {
     "name": "stdout",
     "output_type": "stream",
     "text": [
      "/home/mkrause/data/biofuel-cell/2nd_batch_resistances_py.xlsx\n"
     ]
    }
   ],
   "source": [
    "print(data_path)"
   ]
  },
  {
   "cell_type": "code",
   "execution_count": 6,
   "id": "4bb5485f",
   "metadata": {},
   "outputs": [],
   "source": [
    "sheet_names = [\n",
    "    'protocol01_positive_control', \n",
    "    'protocol02_positive_control', \n",
    "    'protocol03_positive_control']\n",
    "# for sheet_name in sheet_names:\n",
    "df = pd.read_excel(data_path, sheet_name=sheet_names[0])"
   ]
  },
  {
   "cell_type": "code",
   "execution_count": 7,
   "id": "71a1e05d",
   "metadata": {},
   "outputs": [
    {
     "data": {
      "text/html": [
       "<div>\n",
       "<style scoped>\n",
       "    .dataframe tbody tr th:only-of-type {\n",
       "        vertical-align: middle;\n",
       "    }\n",
       "\n",
       "    .dataframe tbody tr th {\n",
       "        vertical-align: top;\n",
       "    }\n",
       "\n",
       "    .dataframe thead th {\n",
       "        text-align: right;\n",
       "    }\n",
       "</style>\n",
       "<table border=\"1\" class=\"dataframe\">\n",
       "  <thead>\n",
       "    <tr style=\"text-align: right;\">\n",
       "      <th></th>\n",
       "      <th>R_avg [Ohm]</th>\n",
       "      <th>R_stdev [Ohm]</th>\n",
       "      <th>fraction of R_stdev</th>\n",
       "      <th>chip_id</th>\n",
       "    </tr>\n",
       "  </thead>\n",
       "  <tbody>\n",
       "    <tr>\n",
       "      <th>0</th>\n",
       "      <td>3190</td>\n",
       "      <td>0.128</td>\n",
       "      <td>0.000040</td>\n",
       "      <td>1</td>\n",
       "    </tr>\n",
       "    <tr>\n",
       "      <th>1</th>\n",
       "      <td>42900000</td>\n",
       "      <td>73100.000</td>\n",
       "      <td>0.001704</td>\n",
       "      <td>1</td>\n",
       "    </tr>\n",
       "    <tr>\n",
       "      <th>2</th>\n",
       "      <td>3920</td>\n",
       "      <td>3.000</td>\n",
       "      <td>0.000765</td>\n",
       "      <td>1</td>\n",
       "    </tr>\n",
       "    <tr>\n",
       "      <th>3</th>\n",
       "      <td>40370000</td>\n",
       "      <td>172000.000</td>\n",
       "      <td>0.004261</td>\n",
       "      <td>1</td>\n",
       "    </tr>\n",
       "    <tr>\n",
       "      <th>4</th>\n",
       "      <td>95400000</td>\n",
       "      <td>700000.000</td>\n",
       "      <td>0.007338</td>\n",
       "      <td>1</td>\n",
       "    </tr>\n",
       "  </tbody>\n",
       "</table>\n",
       "</div>"
      ],
      "text/plain": [
       "   R_avg [Ohm]  R_stdev [Ohm]  fraction of R_stdev  chip_id\n",
       "0         3190          0.128             0.000040        1\n",
       "1     42900000      73100.000             0.001704        1\n",
       "2         3920          3.000             0.000765        1\n",
       "3     40370000     172000.000             0.004261        1\n",
       "4     95400000     700000.000             0.007338        1"
      ]
     },
     "execution_count": 7,
     "metadata": {},
     "output_type": "execute_result"
    }
   ],
   "source": [
    "df.head()"
   ]
  },
  {
   "cell_type": "markdown",
   "id": "3029e9b0",
   "metadata": {},
   "source": [
    "Read all sheets of the Excel file"
   ]
  },
  {
   "cell_type": "code",
   "execution_count": 8,
   "id": "9d4ed929",
   "metadata": {},
   "outputs": [
    {
     "name": "stdout",
     "output_type": "stream",
     "text": [
      "dict_keys(['protocol01_positive_control', 'protocol01_negative_control', 'protocol02_positive_control', 'protocol02_negative_control', 'protocol03_positive_control', 'protocol03_negative_control'])\n"
     ]
    }
   ],
   "source": [
    "xlsx = pd.read_excel(data_path, sheet_name=None)\n",
    "print(xlsx.keys())"
   ]
  },
  {
   "cell_type": "markdown",
   "id": "e9481177",
   "metadata": {},
   "source": [
    "Add a 'Sheet' column to each dataframe"
   ]
  },
  {
   "cell_type": "code",
   "execution_count": 9,
   "id": "67f1ce97",
   "metadata": {},
   "outputs": [],
   "source": [
    "for sheet_name in xlsx.keys():\n",
    "    xlsx[sheet_name]['Sheet'] = sheet_name"
   ]
  },
  {
   "cell_type": "markdown",
   "id": "d218152d",
   "metadata": {},
   "source": [
    "Concatenate sheets of positive controls into one DataFrame"
   ]
  },
  {
   "cell_type": "code",
   "execution_count": 10,
   "id": "77a5f0f5",
   "metadata": {},
   "outputs": [],
   "source": [
    "df = pd.concat(xlsx[frame] for frame in xlsx.keys() if 'positive' in frame)"
   ]
  },
  {
   "cell_type": "code",
   "execution_count": 11,
   "id": "d4e2810b",
   "metadata": {},
   "outputs": [
    {
     "data": {
      "text/html": [
       "<div>\n",
       "<style scoped>\n",
       "    .dataframe tbody tr th:only-of-type {\n",
       "        vertical-align: middle;\n",
       "    }\n",
       "\n",
       "    .dataframe tbody tr th {\n",
       "        vertical-align: top;\n",
       "    }\n",
       "\n",
       "    .dataframe thead th {\n",
       "        text-align: right;\n",
       "    }\n",
       "</style>\n",
       "<table border=\"1\" class=\"dataframe\">\n",
       "  <thead>\n",
       "    <tr style=\"text-align: right;\">\n",
       "      <th></th>\n",
       "      <th>R_avg [Ohm]</th>\n",
       "      <th>R_stdev [Ohm]</th>\n",
       "      <th>fraction of R_stdev</th>\n",
       "      <th>chip_id</th>\n",
       "      <th>Sheet</th>\n",
       "    </tr>\n",
       "  </thead>\n",
       "  <tbody>\n",
       "    <tr>\n",
       "      <th>0</th>\n",
       "      <td>3190</td>\n",
       "      <td>0.128</td>\n",
       "      <td>0.000040</td>\n",
       "      <td>1</td>\n",
       "      <td>protocol01_positive_control</td>\n",
       "    </tr>\n",
       "    <tr>\n",
       "      <th>1</th>\n",
       "      <td>42900000</td>\n",
       "      <td>73100.000</td>\n",
       "      <td>0.001704</td>\n",
       "      <td>1</td>\n",
       "      <td>protocol01_positive_control</td>\n",
       "    </tr>\n",
       "    <tr>\n",
       "      <th>2</th>\n",
       "      <td>3920</td>\n",
       "      <td>3.000</td>\n",
       "      <td>0.000765</td>\n",
       "      <td>1</td>\n",
       "      <td>protocol01_positive_control</td>\n",
       "    </tr>\n",
       "    <tr>\n",
       "      <th>3</th>\n",
       "      <td>40370000</td>\n",
       "      <td>172000.000</td>\n",
       "      <td>0.004261</td>\n",
       "      <td>1</td>\n",
       "      <td>protocol01_positive_control</td>\n",
       "    </tr>\n",
       "    <tr>\n",
       "      <th>4</th>\n",
       "      <td>95400000</td>\n",
       "      <td>700000.000</td>\n",
       "      <td>0.007338</td>\n",
       "      <td>1</td>\n",
       "      <td>protocol01_positive_control</td>\n",
       "    </tr>\n",
       "  </tbody>\n",
       "</table>\n",
       "</div>"
      ],
      "text/plain": [
       "   R_avg [Ohm]  R_stdev [Ohm]  fraction of R_stdev  chip_id  \\\n",
       "0         3190          0.128             0.000040        1   \n",
       "1     42900000      73100.000             0.001704        1   \n",
       "2         3920          3.000             0.000765        1   \n",
       "3     40370000     172000.000             0.004261        1   \n",
       "4     95400000     700000.000             0.007338        1   \n",
       "\n",
       "                         Sheet  \n",
       "0  protocol01_positive_control  \n",
       "1  protocol01_positive_control  \n",
       "2  protocol01_positive_control  \n",
       "3  protocol01_positive_control  \n",
       "4  protocol01_positive_control  "
      ]
     },
     "execution_count": 11,
     "metadata": {},
     "output_type": "execute_result"
    }
   ],
   "source": [
    "df.head()"
   ]
  },
  {
   "cell_type": "code",
   "execution_count": 12,
   "id": "5010c44f",
   "metadata": {},
   "outputs": [
    {
     "name": "stdout",
     "output_type": "stream",
     "text": [
      "   R_avg [Ohm]  R_stdev [Ohm]  fraction of R_stdev  chip_id  \\\n",
      "0         3190          0.128             0.000040        1   \n",
      "1     42900000      73100.000             0.001704        1   \n",
      "2         3920          3.000             0.000765        1   \n",
      "3     40370000     172000.000             0.004261        1   \n",
      "4     95400000     700000.000             0.007338        1   \n",
      "5         3530         10.500             0.002975        1   \n",
      "6         4040         24.700             0.006114        1   \n",
      "7         3000         11.000             0.003667        1   \n",
      "8         4150         56.000             0.013494        1   \n",
      "0         5400         51.000             0.009444        2   \n",
      "1        30000         71.000             0.002367        2   \n",
      "2        39000        156.000             0.004000        2   \n",
      "3      1240000      32000.000             0.025806        2   \n",
      "4       212000        417.000             0.001967        2   \n",
      "5        38000         53.000             0.001395        2   \n",
      "6        99000       2600.000             0.026263        2   \n",
      "7        19900        352.000             0.017688        2   \n",
      "8        16900         80.800             0.004781        2   \n",
      "9        17600         19.900             0.001131        2   \n",
      "0        15000          9.500             0.000633        3   \n",
      "1        29000        201.000             0.006931        3   \n",
      "2        18000        177.000             0.009833        3   \n",
      "3         5600         25.900             0.004625        3   \n",
      "4         6600         28.000             0.004242        3   \n",
      "5        51000        333.000             0.006529        3   \n",
      "6         5600         21.000             0.003750        3   \n",
      "7         5600         21.300             0.003804        3   \n",
      "8        15800         53.000             0.003354        3   \n",
      "9         8000         12.000             0.001500        3   \n",
      "\n",
      "                         Sheet  \n",
      "0  protocol01_positive_control  \n",
      "1  protocol01_positive_control  \n",
      "2  protocol01_positive_control  \n",
      "3  protocol01_positive_control  \n",
      "4  protocol01_positive_control  \n",
      "5  protocol01_positive_control  \n",
      "6  protocol01_positive_control  \n",
      "7  protocol01_positive_control  \n",
      "8  protocol01_positive_control  \n",
      "0  protocol02_positive_control  \n",
      "1  protocol02_positive_control  \n",
      "2  protocol02_positive_control  \n",
      "3  protocol02_positive_control  \n",
      "4  protocol02_positive_control  \n",
      "5  protocol02_positive_control  \n",
      "6  protocol02_positive_control  \n",
      "7  protocol02_positive_control  \n",
      "8  protocol02_positive_control  \n",
      "9  protocol02_positive_control  \n",
      "0  protocol03_positive_control  \n",
      "1  protocol03_positive_control  \n",
      "2  protocol03_positive_control  \n",
      "3  protocol03_positive_control  \n",
      "4  protocol03_positive_control  \n",
      "5  protocol03_positive_control  \n",
      "6  protocol03_positive_control  \n",
      "7  protocol03_positive_control  \n",
      "8  protocol03_positive_control  \n",
      "9  protocol03_positive_control  \n"
     ]
    }
   ],
   "source": [
    "print(df)"
   ]
  },
  {
   "cell_type": "markdown",
   "id": "97db7513",
   "metadata": {},
   "source": [
    "## Plot all data"
   ]
  },
  {
   "cell_type": "markdown",
   "id": "97084402",
   "metadata": {},
   "source": [
    "### Plot each average of a 100 samples with its corresponding standard deviation."
   ]
  },
  {
   "cell_type": "code",
   "execution_count": 41,
   "id": "c306bbf9",
   "metadata": {},
   "outputs": [
    {
     "data": {
      "image/png": "[encoded data removed]",
      "text/plain": [
       "<Figure size 640x480 with 1 Axes>"
      ]
     },
     "metadata": {},
     "output_type": "display_data"
    }
   ],
   "source": [
    "# Get the data and errors from the DataFrame.\n",
    "averages = df['R_avg [Ohm]']\n",
    "std_devs = df['R_stdev [Ohm]']\n",
    "\n",
    "# Create an array with the positions of each bar on the x-axis.\n",
    "x_pos = np.arange(len(averages))\n",
    "\n",
    "# 'chip_id' is the column with group ids.\n",
    "chip_ids: np.ndarray = df['chip_id'].unique()\n",
    "\n",
    "# Create a color dictionary for unique groups.\n",
    "colors: dict = {chip_id: plt.cm.rainbow(np.linspace(0, 1, len(chip_ids))[i]) for i, chip_id in enumerate(chip_ids)}\n",
    "\n",
    "# Create a bar plot with error bars.\n",
    "# plt.bar(x_pos, averages, yerr=std_devs, align='center', alpha=0.7, ecolor='black', capsize=10)\n",
    "\n",
    "# Create a bar plot with error bars by plotting each individual bar, one at a time.\n",
    "for i in range(len(df)):\n",
    "    plt.bar(x_pos[i], averages.iloc[i], yerr=std_devs.iloc[i], align='center', alpha=0.7, ecolor='black', capsize=10,\n",
    "           color=colors[df['chip_id'].iloc[i]])\n",
    "\n",
    "# Set the y-axis to be logarithmic.\n",
    "plt.yscale('log')\n",
    "\n",
    "\n",
    "# Customize the plot.\n",
    "plt.title('Average Values with Standard Deviation (total is n = 3 chips)')\n",
    "plt.ylabel('Average resistance of 100 observations ($\\Omega$)')\n",
    "plt.xlabel('Chip Index')\n",
    "plt.xticks(x_pos, df['chip_id'])\n",
    "plt.tight_layout()\n",
    "\n",
    "fig_filename = os.path.join(_Utility.get_user_data_dir_path(), 'resistances_2nd_batch.png')\n",
    "plt.savefig(fig_filename)\n",
    "\n",
    "# Display the plot.\n",
    "plt.show()\n"
   ]
  },
  {
   "cell_type": "markdown",
   "id": "8cdd4a09",
   "metadata": {},
   "source": [
    "### Create average of each chip"
   ]
  },
  {
   "cell_type": "code",
   "execution_count": 44,
   "id": "46401f9f",
   "metadata": {},
   "outputs": [
    {
     "data": {
      "image/png": "[encoded data removed]",
      "text/plain": [
       "<Figure size 640x480 with 1 Axes>"
      ]
     },
     "metadata": {},
     "output_type": "display_data"
    }
   ],
   "source": [
    "means = df.groupby('chip_id')['R_avg [Ohm]'].mean()\n",
    "stderr = df.groupby('chip_id')['R_avg [Ohm]'].apply(stats.sem)\n",
    "groups = means.index\n",
    "\n",
    "# Create a color dictionary for unique groups.\n",
    "colors: dict = {group: plt.cm.rainbow(np.linspace(0, 1, len(groups))[i]) for i, group in enumerate(groups)}\n",
    "\n",
    "# Create a bar plot.\n",
    "for i in range(len(groups)):\n",
    "    plt.bar(i, means.iloc[i], yerr=stderr.iloc[i], color=colors[groups[i]], capsize=5)\n",
    "\n",
    "# Set x-ticks to the group names.\n",
    "plt.xticks(np.arange(len(groups)), groups)\n",
    "\n",
    "# Set the y-axis to be logarithmic.\n",
    "plt.yscale('log')\n",
    "\n",
    "\n",
    "# Customize the plot.\n",
    "plt.title('Per-chip Average w/ standard err. (total is n = 3 chips)')\n",
    "plt.ylabel('Resistance ($\\Omega$)')\n",
    "plt.xlabel('Chip Index')\n",
    "plt.tight_layout()\n",
    "\n",
    "fig_filename = os.path.join(_Utility.get_user_data_dir_path(), 'resistances_2nd_batch_per_chip.png')\n",
    "plt.savefig(fig_filename)\n",
    "\n",
    "# Display the plot.\n",
    "plt.show()"
   ]
  },
  {
   "cell_type": "markdown",
   "id": "9911208a",
   "metadata": {},
   "source": [
    "### Detecting (and removing) outliers"
   ]
  },
  {
   "cell_type": "markdown",
   "id": "ff968cfd",
   "metadata": {},
   "source": [
    "It could be that some the values in chip 1 are outliers, possibly because the channels the data originated from, were actually not conducting (something I didn't pay enough attention to when I did the measurement). This is a way to detect outliers: a value is considered an outlier if it is not within the range of the first and third quartile."
   ]
  },
  {
   "cell_type": "code",
   "execution_count": 37,
   "id": "8ffd79eb",
   "metadata": {},
   "outputs": [],
   "source": [
    "def remove_outliers(group: pd.core.series.Series) -> pd.core.series.Series:\n",
    "    Q1 = group.quantile(0.25)\n",
    "    Q3 = group.quantile(0.75)\n",
    "    IQR = Q3 - Q1\n",
    "    outliers = (group < (Q1 - 1.5 * IQR)) | (group > (Q3 + 1.5 * IQR))\n",
    "    if any(outliers):\n",
    "        print(f'Found {outliers.sum()} outliers in chip {group.name}!')\n",
    "    return group[~outliers]"
   ]
  },
  {
   "cell_type": "code",
   "execution_count": 38,
   "id": "830825e9",
   "metadata": {},
   "outputs": [
    {
     "name": "stdout",
     "output_type": "stream",
     "text": [
      "Found 2 outliers in chip 2!\n",
      "Found 1 outliers in chip 3!\n"
     ]
    }
   ],
   "source": [
    "df_without_outliers = df.groupby('chip_id')['R_avg [Ohm]'].apply(remove_outliers).reset_index()"
   ]
  },
  {
   "cell_type": "code",
   "execution_count": 43,
   "id": "114ef5d0",
   "metadata": {},
   "outputs": [
    {
     "data": {
      "image/png": "[encoded data removed]",
      "text/plain": [
       "<Figure size 640x480 with 1 Axes>"
      ]
     },
     "metadata": {},
     "output_type": "display_data"
    }
   ],
   "source": [
    "means = df_without_outliers.groupby('chip_id')['R_avg [Ohm]'].mean()\n",
    "stderr = df_without_outliers.groupby('chip_id')['R_avg [Ohm]'].apply(stats.sem)\n",
    "# Create a color dictionary for unique groups.\n",
    "colors: dict = {group: plt.cm.rainbow(np.linspace(0, 1, len(groups))[i]) for i, group in enumerate(groups)}\n",
    "\n",
    "# Create a bar plot.\n",
    "for i in range(len(groups)):\n",
    "    plt.bar(i, means.iloc[i], yerr=stderr.iloc[i], color=colors[groups[i]], capsize=5)\n",
    "\n",
    "# Set x-ticks to the group names.\n",
    "plt.xticks(np.arange(len(groups)), groups)\n",
    "\n",
    "# Set the y-axis to be logarithmic.\n",
    "plt.yscale('log')\n",
    "\n",
    "\n",
    "# Customize the plot.\n",
    "plt.title('Per-chip Average without outliers (total is n = 3 chips)')\n",
    "plt.ylabel('Resistance ($\\Omega$)')\n",
    "plt.xlabel('Chip Index')\n",
    "plt.tight_layout()\n",
    "\n",
    "fig_filename = os.path.join(_Utility.get_user_data_dir_path(), 'resistances_2nd_batch_per_chip_no_outliers.png')\n",
    "plt.savefig(fig_filename)\n",
    "\n",
    "# Display the plot.\n",
    "plt.show()"
   ]
  },
  {
   "cell_type": "code",
   "execution_count": null,
   "id": "a06d55d7",
   "metadata": {},
   "outputs": [],
   "source": []
  }
 ],
 "metadata": {
  "kernelspec": {
   "display_name": ".venv",
   "language": "python",
   "name": ".venv"
  },
  "language_info": {
   "codemirror_mode": {
    "name": "ipython",
    "version": 3
   },
   "file_extension": ".py",
   "mimetype": "text/x-python",
   "name": "python",
   "nbconvert_exporter": "python",
   "pygments_lexer": "ipython3",
   "version": "3.10.12"
  }
 },
 "nbformat": 4,
 "nbformat_minor": 5
}
